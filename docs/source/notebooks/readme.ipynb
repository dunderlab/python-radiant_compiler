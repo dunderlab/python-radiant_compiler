{
 "cells": [
  {
   "cell_type": "markdown",
   "id": "e094c5cd-874a-4a16-8bb6-d0c890ce5736",
   "metadata": {},
   "source": [
    "# Radiant-Compiler"
   ]
  },
  {
   "cell_type": "markdown",
   "id": "8c1ff406-189f-4a51-ba13-f9bc6cbbaf56",
   "metadata": {},
   "source": [
    "Pull the image with the environ for [python-for-android](https://python-for-android.readthedocs.io/en/latest/) that includes the [Android NDK](https://developer.android.com/studio/projects/install-ndk) and the [SDK](https://developer.android.com/studio) to compile Python applications into APKs installer:"
   ]
  },
  {
   "cell_type": "code",
   "execution_count": null,
   "id": "4e59af70-f72a-4f6e-9062-d11fe0506a89",
   "metadata": {},
   "outputs": [],
   "source": [
    "docker pull yeisondev/radiant:compiler"
   ]
  },
  {
   "cell_type": "markdown",
   "id": "0d848432-2e07-4de4-8d16-51f5789bc147",
   "metadata": {},
   "source": [
    "Then install the Python pacakge to use the ```p4a``` command:"
   ]
  },
  {
   "cell_type": "code",
   "execution_count": null,
   "id": "b3b3df71-84e7-45bb-8c41-77025c39ba73",
   "metadata": {},
   "outputs": [],
   "source": [
    "pip install radiant-compiler"
   ]
  },
  {
   "cell_type": "markdown",
   "id": "53af8731-9bff-4d80-bf45-7992d8c5dfe8",
   "metadata": {},
   "source": [
    "Now ```p4a``` is replaced by ```docker_p4a```"
   ]
  },
  {
   "cell_type": "code",
   "execution_count": null,
   "id": "83a707af-212f-46be-a144-164e6ff669e4",
   "metadata": {},
   "outputs": [],
   "source": [
    "docker_p4a apk --arch arm64-v8a"
   ]
  },
  {
   "cell_type": "markdown",
   "id": "a143ced4-bbf0-47a5-b8b0-af2a2cacd866",
   "metadata": {},
   "source": [
    "## Software versions included in the image"
   ]
  },
  {
   "cell_type": "code",
   "execution_count": null,
   "id": "5b125041-adc0-46e1-99f6-1738bb1240aa",
   "metadata": {},
   "outputs": [],
   "source": [
    "ARG NDK_VERSION=r23b\n",
    "SDK_VERSION=8512546_latest \n",
    "JAVA_VERSION=jdk17-openjdk\n",
    "NDKAPI=27\n",
    "ANDROIDAPI=27"
   ]
  }
 ],
 "metadata": {
  "kernelspec": {
   "display_name": "Python 3 (ipykernel)",
   "language": "python",
   "name": "python3"
  },
  "language_info": {
   "codemirror_mode": {
    "name": "ipython",
    "version": 3
   },
   "file_extension": ".py",
   "mimetype": "text/x-python",
   "name": "python",
   "nbconvert_exporter": "python",
   "pygments_lexer": "ipython3",
   "version": "3.10.9"
  }
 },
 "nbformat": 4,
 "nbformat_minor": 5
}
