{
 "cells": [
  {
   "cell_type": "markdown",
   "id": "87c7c12e-9fdd-4176-84a5-f6a8cb5bc443",
   "metadata": {},
   "source": [
    "# Radiant Compiler\n",
    "\n",
    "To compile Python applications into Android packages (APKs), you'll need to have the necessary development environment set up on your machine. One way to do this is to pull the image with the environment for [python-for-android](https://python-for-android.readthedocs.io/en/latest/), which includes the [Android NDK](https://developer.android.com/studio/projects/install-ndk) and the [SDK](https://developer.android.com/studio) needed for compilation. Once you have this environment set up, you can use Radiant Compiler, a Python module that allows you to compile Python projects into APKs. Radiant Compiler comes with a powerful tool called p4a (Python for Android), which provides a lot of control over the build process, allowing you to specify the architecture and other options for the APK file. With these tools, you can easily compile your Python applications into APKs that can be installed on Android devices."
   ]
  },
  {
   "cell_type": "markdown",
   "id": "b92b63f0-82e3-4f4c-949c-d6d7ab7dd8e9",
   "metadata": {},
   "source": [
    "## Getting Started\n",
    "\n",
    "To use Radiant Compiler, you'll need to install it and set up a Docker container with the necessary dependencies. Here's how to get started:\n",
    "\n",
    "1. Install Radiant Compiler with pip:\n",
    "\n",
    "```python\n",
    "pip install radiant-compiler\n",
    "```\n",
    "\n",
    "2. Pull the Docker container:\n",
    "\n",
    "```bash\n",
    "docker pull dunderlab/radiant_p4a:latest\n",
    "```\n",
    "\n",
    "3. Use the `radiant_p4a` command to run p4a inside the container:\n",
    "\n",
    "```bash\n",
    "radiant_p4a apk --arch arm64-v8a\n",
    "```"
   ]
  },
  {
   "cell_type": "markdown",
   "id": "90b76c92-f204-4277-85d3-f5ea08347eb9",
   "metadata": {},
   "source": [
    "## Software versions included in the image\n",
    "\n",
    "```bash\n",
    "NDK_VERSION=r26b \n",
    "SDK_VERSION=10406996_latest \n",
    "JAVA_VERSION=jdk17-openjdk \n",
    "NDKAPI=30 \n",
    "ANDROIDAPI=30 \n",
    "BUILDTOOL='34.0.0'\n",
    "\n",
    "```\n",
    "\n",
    "This is the default configuration for Radiant Compiler, specifying the versions of various tools and APIs used in the build process. The `NDK_VERSION` is `r26b`, the Android NDK version for compilation. The `SDK_VERSION` is `10406996_latest`, the Android SDK version for APK file building. The `JAVA_VERSION` remains `jdk17-openjdk`, the Java version for compiling Python code. Both `NDKAPI` and `ANDROIDAPI` are set to `30`, the Android API versions for NDK compilation and APK building, respectively. Lastly, the `BUILDTOOL` version is `34.0.0`, indicating the build tool version for the APK file."
   ]
  },
  {
   "cell_type": "markdown",
   "id": "6c8c7419-0680-4899-aac7-4690d3b25bc6",
   "metadata": {},
   "source": [
    "## Usage\n",
    "\n",
    "It is possible to use `radiant_p4a` to configure two types of projects: [Django](01.django.ipynb) and [Brython](01.brython.ipynb)."
   ]
  }
 ],
 "metadata": {
  "kernelspec": {
   "display_name": "Python 3 (ipykernel)",
   "language": "python",
   "name": "python3"
  },
  "language_info": {
   "codemirror_mode": {
    "name": "ipython",
    "version": 3
   },
   "file_extension": ".py",
   "mimetype": "text/x-python",
   "name": "python",
   "nbconvert_exporter": "python",
   "pygments_lexer": "ipython3",
   "version": "3.11.6"
  }
 },
 "nbformat": 4,
 "nbformat_minor": 5
}
