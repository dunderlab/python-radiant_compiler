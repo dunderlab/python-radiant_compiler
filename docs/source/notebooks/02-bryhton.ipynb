{
 "cells": [
  {
   "cell_type": "markdown",
   "id": "f681521f-c555-413b-b3e5-252f687af763",
   "metadata": {},
   "source": [
    "# Bryhton projects for Android  "
   ]
  },
  {
   "cell_type": "markdown",
   "id": "b80e4217-6b82-40d7-a1d2-fbed024c29f9",
   "metadata": {},
   "source": [
    "The following represents the fundamental structure of a Brython project, illustrating its essential components and organization."
   ]
  },
  {
   "cell_type": "code",
   "execution_count": null,
   "id": "538d4a67-62f3-4e0f-bb61-28dcf9e13cbe",
   "metadata": {},
   "outputs": [],
   "source": [
    "brython_app/\n",
    "    .p4a                    # Configuration files for Python-for-Android\n",
    "    blacklist.txt           # List of items to exclude from the build\n",
    "    whitelist.txt           # List of items to include in the build\n",
    "    brython_app/\n",
    "-->     radiant/            # Radiant module, more details at: [Radiant Compiler GitHub](https://github.com/dunderlab/python-radiant_compiler/tree/main/radiant)\n",
    "        main.py             # Main script for the Brython application"
   ]
  },
  {
   "cell_type": "markdown",
   "id": "982d348d-53c5-4568-a7b2-4c6ff7aeadc2",
   "metadata": {},
   "source": [
    "<div class=\"alert alert-warning\">\n",
    "In the Brython app's structure, special attention must be given to the <i>radiant/</i> directory. It's crucial to include the source code of these modules, as the <i>python-for-android</i> tool compiles source files into <i>.pyo</i> format. Pre-compiled modules or packages typically installed via package managers are not suitable for this process. This approach ensures that the <i>python-for-android</i> compiler effectively processes the source code of the <b>Radiant Compiler</b>, making them functional within the compiled Android application.\n",
    "</div>"
   ]
  },
  {
   "cell_type": "markdown",
   "id": "e80282d9-6983-4f1e-ae83-714c8c28b607",
   "metadata": {},
   "source": [
    "For additional configuration options and detailed instructions on building Android applications with Python, refer to the [Python for Android Documentation](https://python-for-android.readthedocs.io/en/latest/buildoptions/#webview)."
   ]
  },
  {
   "cell_type": "code",
   "execution_count": null,
   "id": "4ccd6be7-0d62-4a25-8b36-b135399ff474",
   "metadata": {},
   "outputs": [],
   "source": [
    "# .p4a\n",
    "\n",
    "--no-byte-compile-python\n",
    "--private brython_app\n",
    "--package org.example.brython_app\n",
    "--name \"My WebView Brython Application\"\n",
    "--dist_name brython_app\n",
    "--version 0.1\n",
    "--bootstrap webview\n",
    "--requirements tornado,jinja2,markupsafe,pyjnius\n",
    "--whitelist whitelist.txt\n",
    "--blacklist blacklist.txt\n",
    "--port 5000"
   ]
  },
  {
   "cell_type": "markdown",
   "id": "4dfbb13a-83e6-4190-ad4f-12ec76b6b0f0",
   "metadata": {},
   "source": [
    "The path to a file containing blacklisted patterns that will be excluded from the final AAR."
   ]
  },
  {
   "cell_type": "code",
   "execution_count": null,
   "id": "56563c38-9ca0-420d-a9bc-3b369fcba9f0",
   "metadata": {},
   "outputs": [],
   "source": [
    "# blacklist.txt\n",
    "\n",
    "*.pyc"
   ]
  },
  {
   "cell_type": "markdown",
   "id": "f9296ff5-2a70-4670-ad6b-93a1bba2a80d",
   "metadata": {},
   "source": [
    "The path to a file containing whitelisted patterns that will be included in the AAR even if also blacklisted."
   ]
  },
  {
   "cell_type": "code",
   "execution_count": null,
   "id": "d5d11d52-3acf-48c7-b516-fcd357cd0c21",
   "metadata": {},
   "outputs": [],
   "source": [
    "# whitelist.txt\n",
    "\n",
    "sqlite3/*\n",
    "lib-dynload/_sqlite3.so\n",
    "*.py"
   ]
  },
  {
   "cell_type": "markdown",
   "id": "2dc399d6-1460-4a1a-a744-033c388657a9",
   "metadata": {},
   "source": [
    "For further guidance on developing the `main.py` file within your Brython project, consider consulting the [Radiant Framework Documentation](https://radiant-framework.readthedocs.io/). This resource offers comprehensive information and examples to assist in leveraging the Radiant Framework effectively in your application."
   ]
  },
  {
   "cell_type": "code",
   "execution_count": null,
   "id": "3cb9d43f-44f8-4205-8854-ceb61e208ff9",
   "metadata": {},
   "outputs": [],
   "source": [
    "# main.py\n",
    "\n",
    "from radiant.framework.server import RadiantAPI, RadiantServer\n",
    "from browser import html\n",
    "\n",
    "class BareMinimum(RadiantAPI):\n",
    "\n",
    "    def __init__(self, *args, **kwargs):\n",
    "        \"\"\"\"\"\"\n",
    "        super().__init__(*args, **kwargs)\n",
    "        self.body <= html.H1('Radiant Framework')\n",
    "\n",
    "if __name__ == '__main__':\n",
    "    RadiantServer('BareMinimum',\n",
    "                  host='localhost',\n",
    "                  port=5000,\n",
    "                  )"
   ]
  },
  {
   "cell_type": "markdown",
   "id": "8d602b4c-cb0b-4586-9b5f-d1efdf0110cf",
   "metadata": {},
   "source": [
    "To compile the project and generate the corresponding SDK file, follow the established build procedures outlined in the documentation. This process ensures that all necessary components are correctly assembled and the SDK file is prepared for deployment."
   ]
  },
  {
   "cell_type": "code",
   "execution_count": null,
   "id": "10b81859-1968-4d54-ab29-770f1dc51ea1",
   "metadata": {},
   "outputs": [],
   "source": [
    "$ radiant_p4a apk --arch arm64-v8a  "
   ]
  }
 ],
 "metadata": {
  "kernelspec": {
   "display_name": "Python 3 (ipykernel)",
   "language": "python",
   "name": "python3"
  },
  "language_info": {
   "codemirror_mode": {
    "name": "ipython",
    "version": 3
   },
   "file_extension": ".py",
   "mimetype": "text/x-python",
   "name": "python",
   "nbconvert_exporter": "python",
   "pygments_lexer": "ipython3",
   "version": "3.11.6"
  }
 },
 "nbformat": 4,
 "nbformat_minor": 5
}
