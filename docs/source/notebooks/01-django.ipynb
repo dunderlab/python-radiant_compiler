{
 "cells": [
  {
   "cell_type": "markdown",
   "id": "75421cfe-48d0-41ee-a9b9-1c67973754fb",
   "metadata": {},
   "source": [
    "# Django projects for Android  "
   ]
  },
  {
   "cell_type": "markdown",
   "id": "52beaf9b-fa13-44f7-81cd-71e523ca116c",
   "metadata": {},
   "source": [
    "The following represents the fundamental structure of a Django project, illustrating its essential components and organization.  \n",
    "For a practical illustration, here's an example: [Django Application Example on GitHub](https://github.com/dunderlab/python-radiant_compiler/tree/main/examples/django_app)."
   ]
  },
  {
   "cell_type": "code",
   "execution_count": null,
   "id": "260c06c6-86b3-46f0-953e-31213945be1c",
   "metadata": {},
   "outputs": [],
   "source": [
    "django_app/\n",
    "    .p4a                    # Configuration files for Python-for-Android\n",
    "    blacklist.txt           # List of items to exclude from the build\n",
    "    whitelist.txt           # List of items to include in the build\n",
    "    django_app/\n",
    "        main.py             # Main entry point for the Django application\n",
    "        test_project/       # Test project directory\n",
    "-->     radiant/            # Radiant framework module, more details at: [Radiant Framework GitHub](https://github.com/dunderlab/python-radiant_framework/tree/main/radiant)\n",
    "-->     django/             # Django source, see: [Django GitHub Repository](https://github.com/django/django/tree/main/django)\n",
    "        test_project/       # Main Django project directory\n",
    "            manage.py       # Django's command-line utility for administrative tasks\n",
    "            test_project/   # Inner Django project directory\n",
    "                __init__.py # Indicates a Python package\n",
    "                asgi.py     # ASGI config for Django project\n",
    "                settings.py # Settings/configuration for Django project\n",
    "                urls.py     # URL declarations for Django project\n",
    "                wsgi.py     # WSGI config for Django project"
   ]
  },
  {
   "cell_type": "markdown",
   "id": "0a1555ad-f6ff-4778-8757-4933fcf1434b",
   "metadata": {},
   "source": [
    "<div class=\"alert alert-warning\">\n",
    "In the Django app's structure, special attention must be given to the <i>radiant/</i> and <i>django/</i> directories. It's crucial to include the source code of these modules, as the <i>python-for-android</i> tool compiles source files into <i>.pyo</i> format. Pre-compiled modules or packages typically installed via package managers are not suitable for this process. This approach ensures that the <i>python-for-android</i> compiler effectively processes the source code of the <b>Radiant Framework</b> and <b>Django</b>, making them functional within the compiled Android application.\n",
    "</div>"
   ]
  },
  {
   "cell_type": "markdown",
   "id": "43f45dde-ddfc-440f-94cc-8a82120c75d1",
   "metadata": {},
   "source": [
    "For additional configuration options and detailed instructions on building Android applications with Python, refer to the [Python for Android Documentation](https://python-for-android.readthedocs.io/en/latest/buildoptions/#webview)."
   ]
  },
  {
   "cell_type": "code",
   "execution_count": null,
   "id": "3f45cffa-ba8c-4331-bd35-5581f853b221",
   "metadata": {},
   "outputs": [],
   "source": [
    "# .p4a\n",
    "\n",
    "--no-byte-compile-python\n",
    "--private django_app\n",
    "--package org.example.django_app\n",
    "--name \"My WebView Django Application\"\n",
    "--dist_name django_app\n",
    "--version 0.1\n",
    "--bootstrap webview\n",
    "--requirements python3,hostpython3,sqlite3,sqlparse,asgiref,pytz,pyjnius\n",
    "--whitelist whitelist.txt\n",
    "--port 5000"
   ]
  },
  {
   "cell_type": "markdown",
   "id": "bf6c7e8f-a3d8-4b91-840e-788f868a4ccd",
   "metadata": {},
   "source": [
    "The path to a file containing blacklisted patterns that will be excluded from the final AAR."
   ]
  },
  {
   "cell_type": "code",
   "execution_count": null,
   "id": "1b79312c-39d6-4844-8201-c10ed4c5a65c",
   "metadata": {},
   "outputs": [],
   "source": [
    "# blacklist.txt\n",
    "\n",
    "*.pyc"
   ]
  },
  {
   "cell_type": "markdown",
   "id": "6a0238a4-0d71-4106-871b-24c9e9503b67",
   "metadata": {},
   "source": [
    "The path to a file containing whitelisted patterns that will be included in the AAR even if also blacklisted."
   ]
  },
  {
   "cell_type": "code",
   "execution_count": null,
   "id": "91abfd12-1a0f-4bd9-8153-1f6138e96fc9",
   "metadata": {},
   "outputs": [],
   "source": [
    "# whitelist.txt\n",
    "\n",
    "sqlite3/*\n",
    "lib-dynload/_sqlite3.so\n",
    "*.py"
   ]
  },
  {
   "cell_type": "markdown",
   "id": "925c891f-99e2-4c6c-90f6-0fefcc2bf1d0",
   "metadata": {},
   "source": [
    "{{use `radiant.compiler.server` to sevr the application}}"
   ]
  },
  {
   "cell_type": "code",
   "execution_count": null,
   "id": "e744b104-e26b-4747-b7f2-c21006a5dd48",
   "metadata": {},
   "outputs": [],
   "source": [
    "# main.py\n",
    "\n",
    "import sys\n",
    "import os\n",
    "from radiant.compiler import server\n",
    "\n",
    "sys.path.append(os.path.join(os.path.dirname(__file__), \"test_project\"))\n",
    "server.main(ip='localhost', port=5000)"
   ]
  },
  {
   "cell_type": "markdown",
   "id": "f1499ccd-d233-43fb-9acd-7d0265335b9a",
   "metadata": {},
   "source": [
    "To compile the project and generate the corresponding SDK file, follow the established build procedures outlined in the documentation. This process ensures that all necessary components are correctly assembled and the SDK file is prepared for deployment."
   ]
  },
  {
   "cell_type": "code",
   "execution_count": null,
   "id": "11d3d6c0-2a22-4be9-a1da-894817a711cb",
   "metadata": {},
   "outputs": [],
   "source": [
    "$ radiant_p4a apk --arch arm64-v8a  "
   ]
  }
 ],
 "metadata": {
  "kernelspec": {
   "display_name": "Python 3 (ipykernel)",
   "language": "python",
   "name": "python3"
  },
  "language_info": {
   "codemirror_mode": {
    "name": "ipython",
    "version": 3
   },
   "file_extension": ".py",
   "mimetype": "text/x-python",
   "name": "python",
   "nbconvert_exporter": "python",
   "pygments_lexer": "ipython3",
   "version": "3.11.6"
  }
 },
 "nbformat": 4,
 "nbformat_minor": 5
}
