{
 "cells": [
  {
   "cell_type": "markdown",
   "id": "869eb161-a190-4b01-99ed-d54437f9b949",
   "metadata": {},
   "source": [
    "# Automatic Build with GitHub Workflow\n",
    "\n",
    "It's possible to automate the generation of SDK files using [GitHub Workflows](https://docs.github.com/en/actions/using-workflows). For practical demonstrations, please refer to [these examples](https://github.com/dunderlab/github-radiant_workflows) to see it in action."
   ]
  },
  {
   "cell_type": "markdown",
   "id": "885bb686-dbbc-4498-8f63-0eeb3181086c",
   "metadata": {},
   "source": [
    "## Workflow\n",
    "\n",
    "This workflow is titled \"Radiant Compilation Process\" and is specifically designed to automate the compilation of APK files using a tool called Radiant-Compiler."
   ]
  },
  {
   "cell_type": "raw",
   "id": "0baed9b1-4492-40fd-a477-32208c0c0f88",
   "metadata": {},
   "source": [
    "# .github/workflows\n",
    "\n",
    "name: Radiant Compilation Process\n",
    "\n",
    "on:\n",
    "  workflow_dispatch:  # Allows manual trigger of the workflow\n",
    "  push:               # Triggers the workflow on every push to the repository\n",
    "\n",
    "jobs:\n",
    "  compile-apk:\n",
    "    runs-on: ubuntu-latest\n",
    "\n",
    "    steps:\n",
    "    - name: Checkout Repository\n",
    "      uses: actions/checkout@v4\n",
    "\n",
    "    - name: Install Radiant-Compiler\n",
    "      run: |\n",
    "        pip install radiant-compiler\n",
    "\n",
    "    - name: Execute Command in Docker Container\n",
    "      run: |\n",
    "        docker pull dunderlab/radiant_p4a:latest\n",
    "        echo \"*.pyc\" > blacklist.txt\n",
    "        echo \"sqlite3/*\" >> whitelist.txt\n",
    "        echo \"lib-dynload/_sqlite3.so\" >> whitelist.txt\n",
    "        echo \"*.py\" >> whitelist.txt\n",
    "        radiant_p4a apk --arch arm64-v8a\n",
    "\n",
    "    - name: Upload APKs as Artifacts\n",
    "      uses: actions/upload-artifact@v4\n",
    "      with:\n",
    "        name: generated-apks\n",
    "        path: ./*.apk"
   ]
  },
  {
   "cell_type": "markdown",
   "id": "06f84041-33ed-4434-9d69-11521c35d76b",
   "metadata": {},
   "source": [
    "### Triggers:\n",
    "\n",
    "1. **Workflow Dispatch:** This trigger allows the workflow to be manually initiated from the GitHub UI. It's useful for ad-hoc runs or testing.\n",
    "2. **Push Event:** The workflow is automatically triggered on every `push` to the repository. This ensures that any changes made to the codebase are immediately reflected in the compiled APKs.\n",
    "\n",
    "### Job: `compile-apk`\n",
    "This job is responsible for the actual compilation process.\n",
    "\n",
    "- **Environment:** Runs on the latest Ubuntu virtual environment provided by GitHub Actions.\n",
    "  \n",
    "- **Steps:**\n",
    "  1. **Checkout Repository:** Uses the `actions/checkout@v4` action to clone the repository into the GitHub Actions runner, making the codebase available for subsequent steps.\n",
    "  \n",
    "  2. **Install Radiant-Compiler:** Executes a command to install the Radiant-Compiler using pip. This tool is essential for compiling the APKs.\n",
    "  \n",
    "  3. **Execute Command in Docker Container:**\n",
    "     - Pulls the latest `radiant_p4a` Docker image from `dunderlab/radiant_p4a`.\n",
    "     - Creates a blacklist and whitelist for file selection, optimizing the build process.\n",
    "     - Executes the Radiant-Compiler inside the Docker container to compile the APK, targeting the `arm64-v8a` architecture.\n",
    "\n",
    "  4. **Upload APKs as Artifacts:**\n",
    "     - Utilizes the `actions/upload-artifact@v4` action.\n",
    "     - Artifacts named `generated-apks` are created, containing all APK files generated in the workflow.\n",
    "     - These APKs are stored as artifacts on GitHub, making them easily accessible for testing or deployment.\n",
    "\n",
    "This workflow is a robust solution for automating the APK compilation process, ensuring consistency and efficiency in the build pipeline."
   ]
  }
 ],
 "metadata": {
  "kernelspec": {
   "display_name": "Python 3 (ipykernel)",
   "language": "python",
   "name": "python3"
  },
  "language_info": {
   "codemirror_mode": {
    "name": "ipython",
    "version": 3
   },
   "file_extension": ".py",
   "mimetype": "text/x-python",
   "name": "python",
   "nbconvert_exporter": "python",
   "pygments_lexer": "ipython3",
   "version": "3.11.6"
  }
 },
 "nbformat": 4,
 "nbformat_minor": 5
}
